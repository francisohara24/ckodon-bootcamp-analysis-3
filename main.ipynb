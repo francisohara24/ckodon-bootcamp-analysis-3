{
 "cells": [
  {
   "cell_type": "markdown",
   "source": [
    "### Task\n",
    "1. Find set of all unique schools\n",
    "2. For each school, create a dataframe to contain all mentees who applied there.\n",
    "2. Iterate over main dataframe and add all mentees to their corresponding school's dataframe.\n",
    "3. Write each school's dataframe to separate Excel sheet.\n",
    "4. Save Excel sheet as single workbook."
   ],
   "metadata": {
    "collapsed": false
   },
   "id": "4a56d2aeb9c5282"
  },
  {
   "cell_type": "code",
   "execution_count": null,
   "id": "initial_id",
   "metadata": {
    "collapsed": true
   },
   "outputs": [],
   "source": [
    "import pandas as pd\n",
    "import matplotlib.pyplot as plt\n",
    "\n",
    "\n",
    "# read the Excel sheet\n",
    "students = pd.read_excel(\"data/Ckodon Early Decision I Applicants Form (Responses).xlsx\")\n",
    "\n",
    "# preview data\n",
    "students.head()"
   ]
  },
  {
   "cell_type": "code",
   "execution_count": 7,
   "outputs": [],
   "source": [
    "# create a dictionary with dataframes of applicants to each school\n",
    "school_applicants = {}\n",
    "\n",
    "# extract school of each student and add student to dictionary based on school.\n",
    "for row in students.index:\n",
    "    student = students.loc[row]\n",
    "    student_schools = list(map(str.strip, student[\"Select any of the following schools to which you applied Early Decision 1 (ED I)\"].split(\",\")))\n",
    "    for school in student_schools:\n",
    "        # check if school does not exist in dictionary\n",
    "        if school not in school_applicants:\n",
    "            school_applicants[school] = pd.DataFrame(columns=students.columns)  # create entry for school in dictionary\n",
    "        \n",
    "        # add current student's row to dataframe for corresponding school\n",
    "        school_applicants[school].loc[len(school_applicants[school])] = list(student)\n",
    "        "
   ],
   "metadata": {
    "collapsed": false,
    "ExecuteTime": {
     "end_time": "2023-11-08T15:40:55.851737Z",
     "start_time": "2023-11-08T15:40:53.701865Z"
    }
   },
   "id": "6e3272cbae6e53e"
  },
  {
   "cell_type": "code",
   "execution_count": 8,
   "outputs": [
    {
     "name": "stderr",
     "output_type": "stream",
     "text": [
      "/Users/francisohara/DataspellProjects/ckodon-bootcamp-analysis-3/venv/lib/python3.11/site-packages/openpyxl/workbook/child.py:99: UserWarning: Title is more than 31 characters. Some applications may not be able to read the file\n",
      "  warnings.warn(\"Title is more than 31 characters. Some applications may not be able to read the file\")\n"
     ]
    }
   ],
   "source": [
    "# write schools to Excel sheets\n",
    "with pd.ExcelWriter(\"./data/Sorted Ckodon Early Decision I Applicants.xlsx\", mode = \"w\") as writer:\n",
    "    for school in school_applicants:\n",
    "        school_applicants[school].to_excel(writer, sheet_name=school, index=False)\n"
   ],
   "metadata": {
    "collapsed": false,
    "ExecuteTime": {
     "end_time": "2023-11-08T15:40:56.395709Z",
     "start_time": "2023-11-08T15:40:55.933778Z"
    }
   },
   "id": "79f067606160c32a"
  },
  {
   "cell_type": "code",
   "execution_count": 4,
   "outputs": [],
   "source": [
    "# create bar graph of schools"
   ],
   "metadata": {
    "collapsed": false,
    "ExecuteTime": {
     "end_time": "2023-11-08T15:39:18.748252Z",
     "start_time": "2023-11-08T15:39:18.743471Z"
    }
   },
   "id": "44302f6e0d7fb9dc"
  }
 ],
 "metadata": {
  "kernelspec": {
   "display_name": "Python 3",
   "language": "python",
   "name": "python3"
  },
  "language_info": {
   "codemirror_mode": {
    "name": "ipython",
    "version": 2
   },
   "file_extension": ".py",
   "mimetype": "text/x-python",
   "name": "python",
   "nbconvert_exporter": "python",
   "pygments_lexer": "ipython2",
   "version": "2.7.6"
  }
 },
 "nbformat": 4,
 "nbformat_minor": 5
}
